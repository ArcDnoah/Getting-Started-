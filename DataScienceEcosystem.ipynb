{
 "cells": [
  {
   "cell_type": "markdown",
   "id": "17da99da-5afa-44b9-a5cf-8850fb57f566",
   "metadata": {},
   "source": [
    "# Data Science Tools and Ecosystem"
   ]
  },
  {
   "cell_type": "markdown",
   "id": "1c491563-c936-43c5-b9e1-37825816c802",
   "metadata": {
    "tags": []
   },
   "source": [
    "In this notebook, Data Science Tools and Ecosystem are summarized."
   ]
  },
  {
   "cell_type": "markdown",
   "id": "0679d912-3293-4374-bbba-e385017f45a9",
   "metadata": {},
   "source": [
    "Some of the popular languages that Data Scientists use are:"
   ]
  },
  {
   "cell_type": "markdown",
   "id": "aa587b15-de17-42ce-bb89-d56def381480",
   "metadata": {},
   "source": [
    "1.Python\n",
    "\n",
    "2.R\n",
    "\n",
    "3.SQL"
   ]
  },
  {
   "cell_type": "markdown",
   "id": "eaf31c63-6aeb-461b-a2a8-d1fec64732d7",
   "metadata": {},
   "source": [
    "A few Commonly used libraries used by Data Scientists:"
   ]
  },
  {
   "cell_type": "markdown",
   "id": "87f67da6-961c-487e-9b71-528cb5f7403d",
   "metadata": {},
   "source": [
    "1. Pandas \n",
    "\n",
    "2. Tensorflow\n",
    "\n",
    "3. NumPy"
   ]
  },
  {
   "cell_type": "markdown",
   "id": "43a42337-1dd0-4620-8d67-f5d6545b7d96",
   "metadata": {},
   "source": [
    "| Data Science Tools |\n",
    "| :--- |\n",
    "| **RStudio** |\n",
    "| **TensorFlow** |\n",
    "| **Apache Spark** |"
   ]
  },
  {
   "cell_type": "markdown",
   "id": "a564b997-ad03-4b80-a782-ff232c8298e6",
   "metadata": {},
   "source": [
    "### Below are a few examples of evaluating arithmetic expressions in Python"
   ]
  },
  {
   "cell_type": "markdown",
   "id": "865ca491-80c7-41a8-a1ea-cd430c984f26",
   "metadata": {},
   "source": [
    " This a simple arithmetic expression to mutiply then add integers"
   ]
  },
  {
   "cell_type": "code",
   "execution_count": 3,
   "id": "bc754ec7-46c7-4380-9645-2c49f92b24a3",
   "metadata": {
    "tags": []
   },
   "outputs": [
    {
     "data": {
      "text/plain": [
       "17"
      ]
     },
     "execution_count": 3,
     "metadata": {},
     "output_type": "execute_result"
    }
   ],
   "source": [
    "(3*4)+5"
   ]
  },
  {
   "cell_type": "markdown",
   "id": "0ba574e9-4b9e-48c3-8434-662646e1d977",
   "metadata": {},
   "source": [
    "This will convert 200 minutes to hours by diving by 60"
   ]
  },
  {
   "cell_type": "code",
   "execution_count": 3,
   "id": "176f55a6-0c00-4963-ac23-8840946c9764",
   "metadata": {
    "tags": []
   },
   "outputs": [
    {
     "data": {
      "text/plain": [
       "'03:20'"
      ]
     },
     "execution_count": 3,
     "metadata": {},
     "output_type": "execute_result"
    }
   ],
   "source": [
    ">>> minutes = 200\n",
    ">>> '{:02d}:{:02d}'.format(*divmod(minutes, 60))"
   ]
  },
  {
   "cell_type": "markdown",
   "id": "b6d4091b-cdae-427d-988d-6fc8f5a42ee6",
   "metadata": {},
   "source": [
    "_Objectives:_"
   ]
  },
  {
   "cell_type": "markdown",
   "id": "a81af0c0-ddb4-4d8a-8b54-611aa0fd8d52",
   "metadata": {
    "tags": []
   },
   "source": [
    "* Java\n",
    "\n",
    "* Scala\n",
    "\n",
    "* C++"
   ]
  },
  {
   "cell_type": "markdown",
   "id": "50dc7609-0ee1-498f-ac66-cc2acf91893d",
   "metadata": {},
   "source": [
    "## Author"
   ]
  },
  {
   "cell_type": "markdown",
   "id": "893cc92e-555d-4220-ab84-c29bdeabf630",
   "metadata": {},
   "source": [
    "Arturo"
   ]
  },
  {
   "cell_type": "code",
   "execution_count": null,
   "id": "f1cf819a-7736-46f2-8057-318f604d2fcd",
   "metadata": {},
   "outputs": [],
   "source": []
  }
 ],
 "metadata": {
  "kernelspec": {
   "display_name": "Python",
   "language": "python",
   "name": "conda-env-python-py"
  },
  "language_info": {
   "codemirror_mode": {
    "name": "ipython",
    "version": 3
   },
   "file_extension": ".py",
   "mimetype": "text/x-python",
   "name": "python",
   "nbconvert_exporter": "python",
   "pygments_lexer": "ipython3",
   "version": "3.7.12"
  }
 },
 "nbformat": 4,
 "nbformat_minor": 5
}
